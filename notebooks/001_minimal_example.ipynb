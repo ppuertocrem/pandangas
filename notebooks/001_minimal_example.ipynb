{
 "cells": [
  {
   "cell_type": "code",
   "execution_count": 1,
   "metadata": {},
   "outputs": [],
   "source": [
    "import pandangas as pg"
   ]
  },
  {
   "cell_type": "code",
   "execution_count": 2,
   "metadata": {},
   "outputs": [],
   "source": [
    "net = pg.create_empty_network()\n",
    "\n",
    "busf = pg.create_bus(net, level=\"MP\", name=\"BUSF\")\n",
    "bus0 = pg.create_bus(net, level=\"MP\", name=\"BUS0\")\n",
    "\n",
    "bus1 = pg.create_bus(net, level=\"BP\", name=\"BUS1\")\n",
    "bus2 = pg.create_bus(net, level=\"BP\", name=\"BUS2\")\n",
    "bus3 = pg.create_bus(net, level=\"BP\", name=\"BUS3\")\n",
    "\n",
    "pg.create_load(net, bus2, p_kW=10.0, name=\"LOAD2\")\n",
    "pg.create_load(net, bus3, p_kW=15.0, name=\"LOAD3\")\n",
    "\n",
    "pg.create_pipe(net, busf, bus0, length_m=1000, diameter_m=0.05, name=\"PIPE0\")\n",
    "pg.create_pipe(net, bus1, bus2, length_m=4000, diameter_m=0.05, name=\"PIPE1\")\n",
    "pg.create_pipe(net, bus1, bus3, length_m=5000, diameter_m=0.05, name=\"PIPE2\")\n",
    "pg.create_pipe(net, bus2, bus3, length_m=3000, diameter_m=0.05, name=\"PIPE3\")\n",
    "\n",
    "pg.create_station(net, bus0, bus1, p_lim_kW=50, p_Pa=1.022e5, name=\"STATION\")\n",
    "feeder = pg.create_feeder(net, busf, p_lim_kW=50, p_Pa=4.5e5, name=\"FEEDER\")"
   ]
  },
  {
   "cell_type": "code",
   "execution_count": 3,
   "metadata": {},
   "outputs": [
    {
     "data": {
      "text/html": [
       "<div>\n",
       "<style scoped>\n",
       "    .dataframe tbody tr th:only-of-type {\n",
       "        vertical-align: middle;\n",
       "    }\n",
       "\n",
       "    .dataframe tbody tr th {\n",
       "        vertical-align: top;\n",
       "    }\n",
       "\n",
       "    .dataframe thead th {\n",
       "        text-align: right;\n",
       "    }\n",
       "</style>\n",
       "<table border=\"1\" class=\"dataframe\">\n",
       "  <thead>\n",
       "    <tr style=\"text-align: right;\">\n",
       "      <th></th>\n",
       "      <th>name</th>\n",
       "      <th>p_Pa</th>\n",
       "      <th>p_bar</th>\n",
       "      <th>geometry</th>\n",
       "    </tr>\n",
       "  </thead>\n",
       "  <tbody>\n",
       "    <tr>\n",
       "      <th>2</th>\n",
       "      <td>BUS1</td>\n",
       "      <td>102200.0</td>\n",
       "      <td>1.02</td>\n",
       "      <td>None</td>\n",
       "    </tr>\n",
       "    <tr>\n",
       "      <th>3</th>\n",
       "      <td>BUS2</td>\n",
       "      <td>102065.0</td>\n",
       "      <td>1.02</td>\n",
       "      <td>None</td>\n",
       "    </tr>\n",
       "    <tr>\n",
       "      <th>4</th>\n",
       "      <td>BUS3</td>\n",
       "      <td>102042.0</td>\n",
       "      <td>1.02</td>\n",
       "      <td>None</td>\n",
       "    </tr>\n",
       "    <tr>\n",
       "      <th>0</th>\n",
       "      <td>BUSF</td>\n",
       "      <td>450000.0</td>\n",
       "      <td>4.50</td>\n",
       "      <td>None</td>\n",
       "    </tr>\n",
       "    <tr>\n",
       "      <th>1</th>\n",
       "      <td>BUS0</td>\n",
       "      <td>449967.0</td>\n",
       "      <td>4.50</td>\n",
       "      <td>None</td>\n",
       "    </tr>\n",
       "  </tbody>\n",
       "</table>\n",
       "</div>"
      ],
      "text/plain": [
       "   name      p_Pa  p_bar geometry\n",
       "2  BUS1  102200.0   1.02     None\n",
       "3  BUS2  102065.0   1.02     None\n",
       "4  BUS3  102042.0   1.02     None\n",
       "0  BUSF  450000.0   4.50     None\n",
       "1  BUS0  449967.0   4.50     None"
      ]
     },
     "execution_count": 3,
     "metadata": {},
     "output_type": "execute_result"
    }
   ],
   "source": [
    "pg.runpp(net, method=\"NON-LINEAR\")\n",
    "\n",
    "nl_bus = net.res_bus.copy()\n",
    "net.res_bus"
   ]
  },
  {
   "cell_type": "code",
   "execution_count": 4,
   "metadata": {},
   "outputs": [
    {
     "data": {
      "text/html": [
       "<div>\n",
       "<style scoped>\n",
       "    .dataframe tbody tr th:only-of-type {\n",
       "        vertical-align: middle;\n",
       "    }\n",
       "\n",
       "    .dataframe tbody tr th {\n",
       "        vertical-align: top;\n",
       "    }\n",
       "\n",
       "    .dataframe thead th {\n",
       "        text-align: right;\n",
       "    }\n",
       "</style>\n",
       "<table border=\"1\" class=\"dataframe\">\n",
       "  <thead>\n",
       "    <tr style=\"text-align: right;\">\n",
       "      <th></th>\n",
       "      <th>name</th>\n",
       "      <th>m_dot_kg/s</th>\n",
       "      <th>v_m/s</th>\n",
       "      <th>p_kW</th>\n",
       "      <th>loading_%</th>\n",
       "      <th>geometry</th>\n",
       "    </tr>\n",
       "  </thead>\n",
       "  <tbody>\n",
       "    <tr>\n",
       "      <th>1</th>\n",
       "      <td>PIPE1</td>\n",
       "      <td>0.000339</td>\n",
       "      <td>0.25</td>\n",
       "      <td>12.9</td>\n",
       "      <td>12.3</td>\n",
       "      <td>None</td>\n",
       "    </tr>\n",
       "    <tr>\n",
       "      <th>2</th>\n",
       "      <td>PIPE2</td>\n",
       "      <td>0.000317</td>\n",
       "      <td>0.23</td>\n",
       "      <td>12.1</td>\n",
       "      <td>11.5</td>\n",
       "      <td>None</td>\n",
       "    </tr>\n",
       "    <tr>\n",
       "      <th>3</th>\n",
       "      <td>PIPE3</td>\n",
       "      <td>0.000077</td>\n",
       "      <td>0.06</td>\n",
       "      <td>2.9</td>\n",
       "      <td>2.8</td>\n",
       "      <td>None</td>\n",
       "    </tr>\n",
       "    <tr>\n",
       "      <th>0</th>\n",
       "      <td>PIPE0</td>\n",
       "      <td>0.000656</td>\n",
       "      <td>0.24</td>\n",
       "      <td>25.0</td>\n",
       "      <td>12.2</td>\n",
       "      <td>None</td>\n",
       "    </tr>\n",
       "  </tbody>\n",
       "</table>\n",
       "</div>"
      ],
      "text/plain": [
       "    name  m_dot_kg/s  v_m/s  p_kW  loading_% geometry\n",
       "1  PIPE1    0.000339   0.25  12.9       12.3     None\n",
       "2  PIPE2    0.000317   0.23  12.1       11.5     None\n",
       "3  PIPE3    0.000077   0.06   2.9        2.8     None\n",
       "0  PIPE0    0.000656   0.24  25.0       12.2     None"
      ]
     },
     "execution_count": 4,
     "metadata": {},
     "output_type": "execute_result"
    }
   ],
   "source": [
    "net.res_pipe"
   ]
  },
  {
   "cell_type": "code",
   "execution_count": 5,
   "metadata": {},
   "outputs": [
    {
     "data": {
      "text/html": [
       "<div>\n",
       "<style scoped>\n",
       "    .dataframe tbody tr th:only-of-type {\n",
       "        vertical-align: middle;\n",
       "    }\n",
       "\n",
       "    .dataframe tbody tr th {\n",
       "        vertical-align: top;\n",
       "    }\n",
       "\n",
       "    .dataframe thead th {\n",
       "        text-align: right;\n",
       "    }\n",
       "</style>\n",
       "<table border=\"1\" class=\"dataframe\">\n",
       "  <thead>\n",
       "    <tr style=\"text-align: right;\">\n",
       "      <th></th>\n",
       "      <th>name</th>\n",
       "      <th>m_dot_kg/s</th>\n",
       "      <th>p_kW</th>\n",
       "      <th>loading_%</th>\n",
       "    </tr>\n",
       "  </thead>\n",
       "  <tbody>\n",
       "    <tr>\n",
       "      <th>0</th>\n",
       "      <td>FEEDER</td>\n",
       "      <td>-0.000656</td>\n",
       "      <td>-24.9936</td>\n",
       "      <td>50.0</td>\n",
       "    </tr>\n",
       "  </tbody>\n",
       "</table>\n",
       "</div>"
      ],
      "text/plain": [
       "     name  m_dot_kg/s     p_kW  loading_%\n",
       "0  FEEDER   -0.000656 -24.9936       50.0"
      ]
     },
     "execution_count": 5,
     "metadata": {},
     "output_type": "execute_result"
    }
   ],
   "source": [
    "net.res_feeder"
   ]
  },
  {
   "cell_type": "code",
   "execution_count": 6,
   "metadata": {},
   "outputs": [
    {
     "data": {
      "text/html": [
       "<div>\n",
       "<style scoped>\n",
       "    .dataframe tbody tr th:only-of-type {\n",
       "        vertical-align: middle;\n",
       "    }\n",
       "\n",
       "    .dataframe tbody tr th {\n",
       "        vertical-align: top;\n",
       "    }\n",
       "\n",
       "    .dataframe thead th {\n",
       "        text-align: right;\n",
       "    }\n",
       "</style>\n",
       "<table border=\"1\" class=\"dataframe\">\n",
       "  <thead>\n",
       "    <tr style=\"text-align: right;\">\n",
       "      <th></th>\n",
       "      <th>name</th>\n",
       "      <th>m_dot_kg/s</th>\n",
       "      <th>p_kW</th>\n",
       "      <th>loading_%</th>\n",
       "    </tr>\n",
       "  </thead>\n",
       "  <tbody>\n",
       "    <tr>\n",
       "      <th>0</th>\n",
       "      <td>STATION</td>\n",
       "      <td>0.000656</td>\n",
       "      <td>24.9936</td>\n",
       "      <td>50.0</td>\n",
       "    </tr>\n",
       "  </tbody>\n",
       "</table>\n",
       "</div>"
      ],
      "text/plain": [
       "      name  m_dot_kg/s     p_kW  loading_%\n",
       "0  STATION    0.000656  24.9936       50.0"
      ]
     },
     "execution_count": 6,
     "metadata": {},
     "output_type": "execute_result"
    }
   ],
   "source": [
    "net.res_station"
   ]
  },
  {
   "cell_type": "code",
   "execution_count": 7,
   "metadata": {},
   "outputs": [
    {
     "data": {
      "text/html": [
       "<div>\n",
       "<style scoped>\n",
       "    .dataframe tbody tr th:only-of-type {\n",
       "        vertical-align: middle;\n",
       "    }\n",
       "\n",
       "    .dataframe tbody tr th {\n",
       "        vertical-align: top;\n",
       "    }\n",
       "\n",
       "    .dataframe thead th {\n",
       "        text-align: right;\n",
       "    }\n",
       "</style>\n",
       "<table border=\"1\" class=\"dataframe\">\n",
       "  <thead>\n",
       "    <tr style=\"text-align: right;\">\n",
       "      <th></th>\n",
       "      <th>name</th>\n",
       "      <th>p_Pa</th>\n",
       "      <th>p_bar</th>\n",
       "      <th>geometry</th>\n",
       "    </tr>\n",
       "  </thead>\n",
       "  <tbody>\n",
       "    <tr>\n",
       "      <th>2</th>\n",
       "      <td>BUS1</td>\n",
       "      <td>102200.0</td>\n",
       "      <td>1.02</td>\n",
       "      <td>None</td>\n",
       "    </tr>\n",
       "    <tr>\n",
       "      <th>3</th>\n",
       "      <td>BUS2</td>\n",
       "      <td>102193.0</td>\n",
       "      <td>1.02</td>\n",
       "      <td>None</td>\n",
       "    </tr>\n",
       "    <tr>\n",
       "      <th>4</th>\n",
       "      <td>BUS3</td>\n",
       "      <td>102192.0</td>\n",
       "      <td>1.02</td>\n",
       "      <td>None</td>\n",
       "    </tr>\n",
       "    <tr>\n",
       "      <th>0</th>\n",
       "      <td>BUSF</td>\n",
       "      <td>450000.0</td>\n",
       "      <td>4.50</td>\n",
       "      <td>None</td>\n",
       "    </tr>\n",
       "    <tr>\n",
       "      <th>1</th>\n",
       "      <td>BUS0</td>\n",
       "      <td>449998.0</td>\n",
       "      <td>4.50</td>\n",
       "      <td>None</td>\n",
       "    </tr>\n",
       "  </tbody>\n",
       "</table>\n",
       "</div>"
      ],
      "text/plain": [
       "   name      p_Pa  p_bar geometry\n",
       "2  BUS1  102200.0   1.02     None\n",
       "3  BUS2  102193.0   1.02     None\n",
       "4  BUS3  102192.0   1.02     None\n",
       "0  BUSF  450000.0   4.50     None\n",
       "1  BUS0  449998.0   4.50     None"
      ]
     },
     "execution_count": 7,
     "metadata": {},
     "output_type": "execute_result"
    }
   ],
   "source": [
    "pg.runpp(net, method=\"LINEAR\")\n",
    "\n",
    "ln_bus = net.res_bus.copy()\n",
    "net.res_bus"
   ]
  },
  {
   "cell_type": "code",
   "execution_count": 8,
   "metadata": {},
   "outputs": [
    {
     "data": {
      "text/plain": [
       "2    0.000000\n",
       "3    6.198547\n",
       "4    7.345739\n",
       "0    0.000000\n",
       "1    0.008858\n",
       "Name: p_Pa, dtype: float64"
      ]
     },
     "execution_count": 8,
     "metadata": {},
     "output_type": "execute_result"
    }
   ],
   "source": [
    "(ln_bus.p_Pa-nl_bus.p_Pa) / (nl_bus.p_Pa - 1e5) * 100"
   ]
  }
 ],
 "metadata": {
  "kernelspec": {
   "display_name": "Python 3",
   "language": "python",
   "name": "python3"
  },
  "language_info": {
   "codemirror_mode": {
    "name": "ipython",
    "version": 3
   },
   "file_extension": ".py",
   "mimetype": "text/x-python",
   "name": "python",
   "nbconvert_exporter": "python",
   "pygments_lexer": "ipython3",
   "version": "3.6.5"
  }
 },
 "nbformat": 4,
 "nbformat_minor": 2
}
